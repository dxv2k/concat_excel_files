{
 "cells": [
  {
   "cell_type": "markdown",
   "metadata": {},
   "source": [
    "### Import libraries"
   ]
  },
  {
   "cell_type": "code",
   "execution_count": 1,
   "metadata": {},
   "outputs": [],
   "source": [
    "import pandas as pd\n",
    "import os"
   ]
  },
  {
   "cell_type": "code",
   "execution_count": 2,
   "metadata": {},
   "outputs": [],
   "source": [
    "DATA_PATH = \"./data\""
   ]
  },
  {
   "cell_type": "code",
   "execution_count": 35,
   "metadata": {},
   "outputs": [
    {
     "data": {
      "text/plain": [
       "27"
      ]
     },
     "execution_count": 35,
     "metadata": {},
     "output_type": "execute_result"
    }
   ],
   "source": [
    "file_list = os.listdir(DATA_PATH)\n",
    "list_columns_file = [] # idx: columns == idx : \n",
    "for idx, file in enumerate(file_list): \n",
    "    data = pd.read_excel(DATA_PATH + file)\n",
    "    list_columns_file.append(list(data.columns)) \n",
    "\n",
    "len(list_columns_file)"
   ]
  },
  {
   "cell_type": "code",
   "execution_count": 55,
   "metadata": {},
   "outputs": [
    {
     "data": {
      "text/html": [
       "<div>\n",
       "<style scoped>\n",
       "    .dataframe tbody tr th:only-of-type {\n",
       "        vertical-align: middle;\n",
       "    }\n",
       "\n",
       "    .dataframe tbody tr th {\n",
       "        vertical-align: top;\n",
       "    }\n",
       "\n",
       "    .dataframe thead th {\n",
       "        text-align: right;\n",
       "    }\n",
       "</style>\n",
       "<table border=\"1\" class=\"dataframe\">\n",
       "  <thead>\n",
       "    <tr style=\"text-align: right;\">\n",
       "      <th></th>\n",
       "      <th>TT</th>\n",
       "      <th>Mã BN</th>\n",
       "      <th>Họ và tên BN</th>\n",
       "      <th>Năm sinh BN</th>\n",
       "      <th>Giới tính BN</th>\n",
       "      <th>Thôn, xóm, đường, tổ dân phố (đang ở)</th>\n",
       "      <th>Xã/Phường (đang ở)</th>\n",
       "      <th>Quận/Huyện (đang ở)</th>\n",
       "      <th>Tỉnh/TP (đang ở)</th>\n",
       "    </tr>\n",
       "  </thead>\n",
       "  <tbody>\n",
       "    <tr>\n",
       "      <th>0</th>\n",
       "      <td>1</td>\n",
       "      <td>BN2111010</td>\n",
       "      <td>Dương Thùy</td>\n",
       "      <td>1982</td>\n",
       "      <td>Nữ</td>\n",
       "      <td>Ấp 15</td>\n",
       "      <td>Vĩnh Mỹ B</td>\n",
       "      <td>Hòa Bình</td>\n",
       "      <td>Bạc Liêu</td>\n",
       "    </tr>\n",
       "    <tr>\n",
       "      <th>1</th>\n",
       "      <td>2</td>\n",
       "      <td>BN2111011</td>\n",
       "      <td>Lê Hồng Gấm</td>\n",
       "      <td>1988</td>\n",
       "      <td>Nữ</td>\n",
       "      <td>An khoa</td>\n",
       "      <td>Vĩnh Mỹ B</td>\n",
       "      <td>Hòa Bình</td>\n",
       "      <td>Bạc Liêu</td>\n",
       "    </tr>\n",
       "    <tr>\n",
       "      <th>2</th>\n",
       "      <td>3</td>\n",
       "      <td>BN2111012</td>\n",
       "      <td>Thái Phương Anh</td>\n",
       "      <td>1998</td>\n",
       "      <td>Nữ</td>\n",
       "      <td>Trà Co</td>\n",
       "      <td>Minh Diệu</td>\n",
       "      <td>Hòa Bình</td>\n",
       "      <td>Bạc Liêu</td>\n",
       "    </tr>\n",
       "    <tr>\n",
       "      <th>3</th>\n",
       "      <td>4</td>\n",
       "      <td>BN2111013</td>\n",
       "      <td>Võ Hoài Phú</td>\n",
       "      <td>2021</td>\n",
       "      <td>Nam</td>\n",
       "      <td>Thị trấn A</td>\n",
       "      <td>Thị trấn Hoà Bình</td>\n",
       "      <td>Hòa Bình</td>\n",
       "      <td>Bạc Liêu</td>\n",
       "    </tr>\n",
       "    <tr>\n",
       "      <th>4</th>\n",
       "      <td>5</td>\n",
       "      <td>BN2111014</td>\n",
       "      <td>Võ Hoài Phong</td>\n",
       "      <td>1998</td>\n",
       "      <td>Nam</td>\n",
       "      <td>Thị trấn A</td>\n",
       "      <td>Thị trấn Hoà Bình</td>\n",
       "      <td>Hòa Bình</td>\n",
       "      <td>Bạc Liêu</td>\n",
       "    </tr>\n",
       "  </tbody>\n",
       "</table>\n",
       "</div>"
      ],
      "text/plain": [
       "   TT      Mã BN      Họ và tên BN  Năm sinh BN Giới tính BN  \\\n",
       "0   1  BN2111010        Dương Thùy         1982           Nữ   \n",
       "1   2  BN2111011       Lê Hồng Gấm         1988           Nữ   \n",
       "2   3  BN2111012  Thái Phương Anh          1998           Nữ   \n",
       "3   4  BN2111013      Võ Hoài Phú          2021         Nam    \n",
       "4   5  BN2111014    Võ Hoài Phong          1998         Nam    \n",
       "\n",
       "  Thôn, xóm, đường, tổ dân phố (đang ở) Xã/Phường (đang ở)  \\\n",
       "0                                 Ấp 15          Vĩnh Mỹ B   \n",
       "1                               An khoa          Vĩnh Mỹ B   \n",
       "2                               Trà Co          Minh Diệu    \n",
       "3                            Thị trấn A  Thị trấn Hoà Bình   \n",
       "4                            Thị trấn A  Thị trấn Hoà Bình   \n",
       "\n",
       "  Quận/Huyện (đang ở) Tỉnh/TP (đang ở)  \n",
       "0            Hòa Bình         Bạc Liêu  \n",
       "1            Hòa Bình         Bạc Liêu  \n",
       "2           Hòa Bình         Bạc Liêu   \n",
       "3           Hòa Bình         Bạc Liêu   \n",
       "4            Hòa Bình        Bạc Liêu   "
      ]
     },
     "execution_count": 55,
     "metadata": {},
     "output_type": "execute_result"
    }
   ],
   "source": [
    "# get columns value\n",
    "data0 = pd.read_excel(DATA_PATH + file_list[0])\n",
    "data0.head()"
   ]
  },
  {
   "cell_type": "code",
   "execution_count": 81,
   "metadata": {},
   "outputs": [
    {
     "data": {
      "text/html": [
       "<div>\n",
       "<style scoped>\n",
       "    .dataframe tbody tr th:only-of-type {\n",
       "        vertical-align: middle;\n",
       "    }\n",
       "\n",
       "    .dataframe tbody tr th {\n",
       "        vertical-align: top;\n",
       "    }\n",
       "\n",
       "    .dataframe thead th {\n",
       "        text-align: right;\n",
       "    }\n",
       "</style>\n",
       "<table border=\"1\" class=\"dataframe\">\n",
       "  <thead>\n",
       "    <tr style=\"text-align: right;\">\n",
       "      <th></th>\n",
       "      <th>Mã BN</th>\n",
       "      <th>Họ và tên BN</th>\n",
       "      <th>Năm sinh BN</th>\n",
       "      <th>Giới tính BN</th>\n",
       "    </tr>\n",
       "  </thead>\n",
       "  <tbody>\n",
       "    <tr>\n",
       "      <th>0</th>\n",
       "      <td>BN2111010</td>\n",
       "      <td>Dương Thùy</td>\n",
       "      <td>1982</td>\n",
       "      <td>Nữ</td>\n",
       "    </tr>\n",
       "    <tr>\n",
       "      <th>1</th>\n",
       "      <td>BN2111011</td>\n",
       "      <td>Lê Hồng Gấm</td>\n",
       "      <td>1988</td>\n",
       "      <td>Nữ</td>\n",
       "    </tr>\n",
       "    <tr>\n",
       "      <th>2</th>\n",
       "      <td>BN2111012</td>\n",
       "      <td>Thái Phương Anh</td>\n",
       "      <td>1998</td>\n",
       "      <td>Nữ</td>\n",
       "    </tr>\n",
       "    <tr>\n",
       "      <th>3</th>\n",
       "      <td>BN2111013</td>\n",
       "      <td>Võ Hoài Phú</td>\n",
       "      <td>2021</td>\n",
       "      <td>Nam</td>\n",
       "    </tr>\n",
       "    <tr>\n",
       "      <th>4</th>\n",
       "      <td>BN2111014</td>\n",
       "      <td>Võ Hoài Phong</td>\n",
       "      <td>1998</td>\n",
       "      <td>Nam</td>\n",
       "    </tr>\n",
       "    <tr>\n",
       "      <th>...</th>\n",
       "      <td>...</td>\n",
       "      <td>...</td>\n",
       "      <td>...</td>\n",
       "      <td>...</td>\n",
       "    </tr>\n",
       "    <tr>\n",
       "      <th>103</th>\n",
       "      <td>BN2111113</td>\n",
       "      <td>Lý Thị Mỹ</td>\n",
       "      <td>1954</td>\n",
       "      <td>Nữ</td>\n",
       "    </tr>\n",
       "    <tr>\n",
       "      <th>104</th>\n",
       "      <td>BN2111114</td>\n",
       "      <td>Lê Thảo Yến</td>\n",
       "      <td>1994</td>\n",
       "      <td>Nữ</td>\n",
       "    </tr>\n",
       "    <tr>\n",
       "      <th>105</th>\n",
       "      <td>BN2111115</td>\n",
       "      <td>Phạm Thị Kim Thà</td>\n",
       "      <td>1993</td>\n",
       "      <td>Nữ</td>\n",
       "    </tr>\n",
       "    <tr>\n",
       "      <th>106</th>\n",
       "      <td>BN2111116</td>\n",
       "      <td>Lê Thị Tư</td>\n",
       "      <td>1934</td>\n",
       "      <td>Nữ</td>\n",
       "    </tr>\n",
       "    <tr>\n",
       "      <th>107</th>\n",
       "      <td>BN2111117</td>\n",
       "      <td>Lâm Thị Ken</td>\n",
       "      <td>1962</td>\n",
       "      <td>Nữ</td>\n",
       "    </tr>\n",
       "  </tbody>\n",
       "</table>\n",
       "<p>108 rows × 4 columns</p>\n",
       "</div>"
      ],
      "text/plain": [
       "         Mã BN      Họ và tên BN  Năm sinh BN Giới tính BN\n",
       "0    BN2111010        Dương Thùy         1982           Nữ\n",
       "1    BN2111011       Lê Hồng Gấm         1988           Nữ\n",
       "2    BN2111012  Thái Phương Anh          1998           Nữ\n",
       "3    BN2111013      Võ Hoài Phú          2021         Nam \n",
       "4    BN2111014    Võ Hoài Phong          1998         Nam \n",
       "..         ...               ...          ...          ...\n",
       "103  BN2111113         Lý Thị Mỹ         1954          Nữ \n",
       "104  BN2111114       Lê Thảo Yến         1994          Nữ \n",
       "105  BN2111115  Phạm Thị Kim Thà         1993          Nữ \n",
       "106  BN2111116         Lê Thị Tư         1934          Nữ \n",
       "107  BN2111117       Lâm Thị Ken         1962          Nữ \n",
       "\n",
       "[108 rows x 4 columns]"
      ]
     },
     "execution_count": 81,
     "metadata": {},
     "output_type": "execute_result"
    }
   ],
   "source": [
    "test_data = data0.iloc[:,1:5]\n"
   ]
  },
  {
   "cell_type": "code",
   "execution_count": 58,
   "metadata": {},
   "outputs": [],
   "source": [
    "df = pd.DataFrame(columns=[str(i) for i in [\"Mã BN\",\"Họ và tên BN\", \"Năm sinh\", \"Giới Tính\"]])"
   ]
  },
  {
   "cell_type": "code",
   "execution_count": null,
   "metadata": {},
   "outputs": [],
   "source": []
  },
  {
   "cell_type": "markdown",
   "metadata": {},
   "source": [
    "### Columns that found in most of the files"
   ]
  },
  {
   "cell_type": "code",
   "execution_count": 39,
   "metadata": {},
   "outputs": [
    {
     "data": {
      "text/plain": [
       "35"
      ]
     },
     "execution_count": 39,
     "metadata": {},
     "output_type": "execute_result"
    }
   ],
   "source": [
    "# count column values\n",
    "dict_columns_value_count = {}\n",
    "for row in list_columns_file: \n",
    "    for col_name in row: \n",
    "        # NOT IN \n",
    "        if col_name not in dict_columns_value_count: \n",
    "            dict_columns_value_count[col_name] = 1 \n",
    "        else:\n",
    "            dict_columns_value_count[col_name] += 1\n",
    "len(dict_columns_value_count)"
   ]
  },
  {
   "cell_type": "code",
   "execution_count": 40,
   "metadata": {},
   "outputs": [
    {
     "data": {
      "text/plain": [
       "{'TT': 27,\n",
       " 'Mã BN': 7,\n",
       " 'Họ và tên BN': 27,\n",
       " 'Năm sinh BN': 19,\n",
       " 'Giới tính BN': 19,\n",
       " 'Thôn, xóm, đường, tổ dân phố (đang ở)': 19,\n",
       " 'Xã/Phường (đang ở)': 19,\n",
       " 'Quận/Huyện (đang ở)': 19,\n",
       " 'Tỉnh/TP (đang ở)': 19,\n",
       " 'MSBN': 9,\n",
       " 'Thôn, xóm, đường, tổ dân phố (thường trú)': 4,\n",
       " 'Xã/Phường \\n(thường trú)': 4,\n",
       " 'Quận/Huyện \\n(thường trú)': 4,\n",
       " 'Tỉnh/TP\\n(thường trú)': 4,\n",
       " 'Ngày lấy mẫu': 4,\n",
       " 'Ngày có kết quả xét nghiệm': 4,\n",
       " 'Phân loại ca bệnh': 4,\n",
       " 'Đối tượng lấy mẫu': 4,\n",
       " 'CT Value': 14,\n",
       " 'Số điện thoại BN': 4,\n",
       " 'Tiền sử tiêm Vaccine Covid-19': 4,\n",
       " 'Ghi chú': 4,\n",
       " 'Loại xét nghiệm': 4,\n",
       " 'Nơi lấy mẫu': 12,\n",
       " 'Mã số BN': 6,\n",
       " 'Năm sinh \\n BN': 8,\n",
       " 'Giới tính\\n BN': 8,\n",
       " 'Thôn, xóm, đường,\\n tổ dân phố (đang ở)': 8,\n",
       " 'Xã/Phường \\n(đang ở)': 8,\n",
       " 'Quận/Huyện \\n(đang ở)': 8,\n",
       " 'Tỉnh/TP \\n(đang ở)': 7,\n",
       " 'Mã số bệnh nhân': 3,\n",
       " 'Mã Số BN': 1,\n",
       " 'Nơi lấy\\n mẫu': 1,\n",
       " 'Mã số bệnh nhân ': 1}"
      ]
     },
     "execution_count": 40,
     "metadata": {},
     "output_type": "execute_result"
    }
   ],
   "source": [
    "dict_columns_value_count"
   ]
  },
  {
   "cell_type": "markdown",
   "metadata": {},
   "source": [
    "### Extract data & Merge to one file "
   ]
  },
  {
   "cell_type": "code",
   "execution_count": 53,
   "metadata": {},
   "outputs": [
    {
     "data": {
      "text/html": [
       "<div>\n",
       "<style scoped>\n",
       "    .dataframe tbody tr th:only-of-type {\n",
       "        vertical-align: middle;\n",
       "    }\n",
       "\n",
       "    .dataframe tbody tr th {\n",
       "        vertical-align: top;\n",
       "    }\n",
       "\n",
       "    .dataframe thead th {\n",
       "        text-align: right;\n",
       "    }\n",
       "</style>\n",
       "<table border=\"1\" class=\"dataframe\">\n",
       "  <thead>\n",
       "    <tr style=\"text-align: right;\">\n",
       "      <th></th>\n",
       "      <th>Mã BN</th>\n",
       "      <th>Họ và tên BN</th>\n",
       "      <th>Năm sinh</th>\n",
       "      <th>Giới Tính</th>\n",
       "    </tr>\n",
       "  </thead>\n",
       "  <tbody>\n",
       "  </tbody>\n",
       "</table>\n",
       "</div>"
      ],
      "text/plain": [
       "Empty DataFrame\n",
       "Columns: [Mã BN, Họ và tên BN, Năm sinh, Giới Tính]\n",
       "Index: []"
      ]
     },
     "execution_count": 53,
     "metadata": {},
     "output_type": "execute_result"
    }
   ],
   "source": [
    "# columns used in merged file\n",
    "columns =  [\"Mã BN\",\"Họ và tên BN\", \"Năm sinh\", \"Giới Tính\"]\n",
    "\n",
    "# create empty dataframe with columns name\n",
    "df = pd.DataFrame(columns=[str(i) for i in columns])\n",
    "df\n"
   ]
  },
  {
   "cell_type": "code",
   "execution_count": 93,
   "metadata": {},
   "outputs": [
    {
     "data": {
      "text/html": [
       "<div>\n",
       "<style scoped>\n",
       "    .dataframe tbody tr th:only-of-type {\n",
       "        vertical-align: middle;\n",
       "    }\n",
       "\n",
       "    .dataframe tbody tr th {\n",
       "        vertical-align: top;\n",
       "    }\n",
       "\n",
       "    .dataframe thead th {\n",
       "        text-align: right;\n",
       "    }\n",
       "</style>\n",
       "<table border=\"1\" class=\"dataframe\">\n",
       "  <thead>\n",
       "    <tr style=\"text-align: right;\">\n",
       "      <th></th>\n",
       "      <th>Mã BN</th>\n",
       "      <th>Họ và tên BN</th>\n",
       "      <th>Năm sinh</th>\n",
       "      <th>Giới Tính</th>\n",
       "    </tr>\n",
       "  </thead>\n",
       "  <tbody>\n",
       "    <tr>\n",
       "      <th>0</th>\n",
       "      <td>BN2111010</td>\n",
       "      <td>Dương Thùy</td>\n",
       "      <td>1982</td>\n",
       "      <td>Nữ</td>\n",
       "    </tr>\n",
       "    <tr>\n",
       "      <th>1</th>\n",
       "      <td>BN2111011</td>\n",
       "      <td>Lê Hồng Gấm</td>\n",
       "      <td>1988</td>\n",
       "      <td>Nữ</td>\n",
       "    </tr>\n",
       "    <tr>\n",
       "      <th>2</th>\n",
       "      <td>BN2111012</td>\n",
       "      <td>Thái Phương Anh</td>\n",
       "      <td>1998</td>\n",
       "      <td>Nữ</td>\n",
       "    </tr>\n",
       "    <tr>\n",
       "      <th>3</th>\n",
       "      <td>BN2111013</td>\n",
       "      <td>Võ Hoài Phú</td>\n",
       "      <td>2021</td>\n",
       "      <td>Nam</td>\n",
       "    </tr>\n",
       "    <tr>\n",
       "      <th>4</th>\n",
       "      <td>BN2111014</td>\n",
       "      <td>Võ Hoài Phong</td>\n",
       "      <td>1998</td>\n",
       "      <td>Nam</td>\n",
       "    </tr>\n",
       "    <tr>\n",
       "      <th>...</th>\n",
       "      <td>...</td>\n",
       "      <td>...</td>\n",
       "      <td>...</td>\n",
       "      <td>...</td>\n",
       "    </tr>\n",
       "    <tr>\n",
       "      <th>4841</th>\n",
       "      <td>BN2203828</td>\n",
       "      <td>Hứa Ngọc Ân</td>\n",
       "      <td>1963</td>\n",
       "      <td>Nữ</td>\n",
       "    </tr>\n",
       "    <tr>\n",
       "      <th>4842</th>\n",
       "      <td>BN2203829</td>\n",
       "      <td>Vương Duệ Phú</td>\n",
       "      <td>1993</td>\n",
       "      <td>Nam</td>\n",
       "    </tr>\n",
       "    <tr>\n",
       "      <th>4843</th>\n",
       "      <td>BN2203830</td>\n",
       "      <td>Quách Trường Thái</td>\n",
       "      <td>1984</td>\n",
       "      <td>Nam</td>\n",
       "    </tr>\n",
       "    <tr>\n",
       "      <th>4844</th>\n",
       "      <td>BN2203831</td>\n",
       "      <td>Mai Trung Học</td>\n",
       "      <td>1991</td>\n",
       "      <td>Nam</td>\n",
       "    </tr>\n",
       "    <tr>\n",
       "      <th>4845</th>\n",
       "      <td>BN2203832</td>\n",
       "      <td>Hứa Mỹ Chu</td>\n",
       "      <td>1951</td>\n",
       "      <td>Nữ</td>\n",
       "    </tr>\n",
       "  </tbody>\n",
       "</table>\n",
       "<p>4846 rows × 4 columns</p>\n",
       "</div>"
      ],
      "text/plain": [
       "          Mã BN       Họ và tên BN Năm sinh Giới Tính\n",
       "0     BN2111010         Dương Thùy     1982        Nữ\n",
       "1     BN2111011        Lê Hồng Gấm     1988        Nữ\n",
       "2     BN2111012   Thái Phương Anh      1998        Nữ\n",
       "3     BN2111013       Võ Hoài Phú      2021      Nam \n",
       "4     BN2111014     Võ Hoài Phong      1998      Nam \n",
       "...         ...                ...      ...       ...\n",
       "4841  BN2203828        Hứa Ngọc Ân     1963        Nữ\n",
       "4842  BN2203829      Vương Duệ Phú     1993       Nam\n",
       "4843  BN2203830  Quách Trường Thái     1984       Nam\n",
       "4844  BN2203831      Mai Trung Học     1991       Nam\n",
       "4845  BN2203832         Hứa Mỹ Chu     1951        Nữ\n",
       "\n",
       "[4846 rows x 4 columns]"
      ]
     },
     "execution_count": 93,
     "metadata": {},
     "output_type": "execute_result"
    }
   ],
   "source": [
    "# columns used in merged file\n",
    "columns =  [\"Mã BN\",\"Họ và tên BN\", \"Năm sinh\", \"Giới Tính\"]\n",
    "\n",
    "# create empty dataframe with columns name\n",
    "df = pd.DataFrame(columns=[str(i) for i in columns])\n",
    "\n",
    "# copy from files to dataframe \n",
    "for idx, file in enumerate(file_list): \n",
    "    curr_data = pd.read_excel(DATA_PATH + file)\n",
    "\n",
    "    # get columns 1,2,3,4 (idx start at 0) \n",
    "    # mã BN, họ tên BN, năm sinh, giới tính \n",
    "    curr_data = curr_data.iloc[:,1:5]\n",
    "\n",
    "    # remove headers \n",
    "    curr_data = curr_data[:].values\n",
    "\n",
    "    # convert to dataframe \n",
    "    curr_data = pd.DataFrame(curr_data, columns=columns)\n",
    "\n",
    "    df = df.append(curr_data, ignore_index=True)\n",
    "\n",
    "df"
   ]
  },
  {
   "cell_type": "code",
   "execution_count": 94,
   "metadata": {},
   "outputs": [
    {
     "data": {
      "text/plain": [
       "4846"
      ]
     },
     "execution_count": 94,
     "metadata": {},
     "output_type": "execute_result"
    }
   ],
   "source": [
    "len(df) "
   ]
  },
  {
   "cell_type": "code",
   "execution_count": 96,
   "metadata": {},
   "outputs": [],
   "source": [
    "df.to_excel(\"./output.xlsx\",sheet_name=\"Tổng hợp\")"
   ]
  },
  {
   "cell_type": "markdown",
   "metadata": {},
   "source": [
    "### Complete code"
   ]
  },
  {
   "cell_type": "code",
   "execution_count": 6,
   "metadata": {},
   "outputs": [],
   "source": [
    "import pandas as pd\n",
    "import os \n",
    "\n",
    "DATA_PATH = \"./data/\"\n",
    "\n",
    "file_list = os.listdir(DATA_PATH)\n",
    "\n",
    "# columns used in merged file\n",
    "columns =  [\"Mã BN\",\"Họ và tên BN\", \"Năm sinh\", \"Giới Tính\"]\n",
    "\n",
    "# create empty dataframe with columns name\n",
    "df = pd.DataFrame(columns=[str(i) for i in columns])\n",
    "\n",
    "# copy from files to dataframe \n",
    "for idx, file in enumerate(file_list): \n",
    "    curr_data = pd.read_excel(DATA_PATH + file)\n",
    "\n",
    "    # get columns 1,2,3,4 (idx start at 0) \n",
    "    # mã BN, họ tên BN, năm sinh, giới tính \n",
    "    curr_data = curr_data.iloc[:,1:5]\n",
    "\n",
    "    # remove headers \n",
    "    curr_data = curr_data[:].values\n",
    "\n",
    "    # convert to dataframe \n",
    "    curr_data = pd.DataFrame(curr_data, columns=columns)\n",
    "\n",
    "    df = df.append(curr_data, ignore_index=True)\n",
    "\n",
    "df.to_excel(\"./output.xlsx\",sheet_name=\"Tổng hợp\")"
   ]
  },
  {
   "cell_type": "code",
   "execution_count": null,
   "metadata": {},
   "outputs": [],
   "source": []
  },
  {
   "cell_type": "markdown",
   "metadata": {},
   "source": [
    "#### Test"
   ]
  },
  {
   "cell_type": "code",
   "execution_count": 7,
   "metadata": {},
   "outputs": [],
   "source": [
    "import os # lib to get file names\n",
    "import pandas as pd # lib read excel file  "
   ]
  },
  {
   "cell_type": "code",
   "execution_count": 9,
   "metadata": {},
   "outputs": [
    {
     "data": {
      "text/plain": [
       "68"
      ]
     },
     "execution_count": 9,
     "metadata": {},
     "output_type": "execute_result"
    }
   ],
   "source": [
    "file_list = os.listdir(\"./data\")\n",
    "len(file_list) "
   ]
  },
  {
   "cell_type": "code",
   "execution_count": 12,
   "metadata": {},
   "outputs": [
    {
     "data": {
      "text/html": [
       "<div>\n",
       "<style scoped>\n",
       "    .dataframe tbody tr th:only-of-type {\n",
       "        vertical-align: middle;\n",
       "    }\n",
       "\n",
       "    .dataframe tbody tr th {\n",
       "        vertical-align: top;\n",
       "    }\n",
       "\n",
       "    .dataframe thead th {\n",
       "        text-align: right;\n",
       "    }\n",
       "</style>\n",
       "<table border=\"1\" class=\"dataframe\">\n",
       "  <thead>\n",
       "    <tr style=\"text-align: right;\">\n",
       "      <th></th>\n",
       "      <th>TT</th>\n",
       "      <th>Unnamed: 1</th>\n",
       "      <th>Họ và tên BN</th>\n",
       "      <th>Năm \\nsinh BN</th>\n",
       "      <th>Giới tính\\n BN</th>\n",
       "      <th>Thôn, xóm, \\nđường, \\ntổ dân phố (đang ở)</th>\n",
       "      <th>Xã/Phường \\n(đang ở)</th>\n",
       "      <th>Quận/Huyện\\n (đang ở)</th>\n",
       "      <th>Tỉnh/TP \\n (đang ở)</th>\n",
       "      <th>CT Value</th>\n",
       "    </tr>\n",
       "  </thead>\n",
       "  <tbody>\n",
       "    <tr>\n",
       "      <th>0</th>\n",
       "      <td>1</td>\n",
       "      <td>BN1282126</td>\n",
       "      <td>Đoàn Gia Luân</td>\n",
       "      <td>2009</td>\n",
       "      <td>Nam</td>\n",
       "      <td>Khóm 3</td>\n",
       "      <td>Phường 3</td>\n",
       "      <td>Thành Phố Bạc Liêu</td>\n",
       "      <td>Bạc Liêu</td>\n",
       "      <td>20.51</td>\n",
       "    </tr>\n",
       "    <tr>\n",
       "      <th>1</th>\n",
       "      <td>2</td>\n",
       "      <td>BN1282127</td>\n",
       "      <td>Huỳnh Đức Thắng Em</td>\n",
       "      <td>1987</td>\n",
       "      <td>Nam</td>\n",
       "      <td>Khóm 6</td>\n",
       "      <td>Phường 1</td>\n",
       "      <td>Thành Phố Bạc Liêu</td>\n",
       "      <td>Bạc Liêu</td>\n",
       "      <td>26.65</td>\n",
       "    </tr>\n",
       "    <tr>\n",
       "      <th>2</th>\n",
       "      <td>3</td>\n",
       "      <td>BN1282128</td>\n",
       "      <td>Hồ Hoàng Kiến</td>\n",
       "      <td>1998</td>\n",
       "      <td>Nam</td>\n",
       "      <td>Phước Thọ</td>\n",
       "      <td>Phước Long</td>\n",
       "      <td>Phước Long</td>\n",
       "      <td>Bạc Liêu</td>\n",
       "      <td>20.91</td>\n",
       "    </tr>\n",
       "    <tr>\n",
       "      <th>3</th>\n",
       "      <td>4</td>\n",
       "      <td>BN1282129</td>\n",
       "      <td>Tô Bích Duy</td>\n",
       "      <td>1984</td>\n",
       "      <td>Nữ</td>\n",
       "      <td>Phước Thành</td>\n",
       "      <td>Phước Long</td>\n",
       "      <td>Phước Long</td>\n",
       "      <td>Bạc Liêu</td>\n",
       "      <td>20.90</td>\n",
       "    </tr>\n",
       "    <tr>\n",
       "      <th>4</th>\n",
       "      <td>5</td>\n",
       "      <td>BN1282130</td>\n",
       "      <td>Danh Thị Nhan</td>\n",
       "      <td>1987</td>\n",
       "      <td>Nữ</td>\n",
       "      <td>Phước Thọ Hậu</td>\n",
       "      <td>Phước Long</td>\n",
       "      <td>Phước Long</td>\n",
       "      <td>Bạc Liêu</td>\n",
       "      <td>17.61</td>\n",
       "    </tr>\n",
       "  </tbody>\n",
       "</table>\n",
       "</div>"
      ],
      "text/plain": [
       "   TT Unnamed: 1        Họ và tên BN  Năm \\nsinh BN Giới tính\\n BN  \\\n",
       "0   1  BN1282126       Đoàn Gia Luân           2009            Nam   \n",
       "1   2  BN1282127  Huỳnh Đức Thắng Em           1987            Nam   \n",
       "2   3  BN1282128       Hồ Hoàng Kiến           1998            Nam   \n",
       "3   4  BN1282129         Tô Bích Duy           1984             Nữ   \n",
       "4   5  BN1282130       Danh Thị Nhan           1987             Nữ   \n",
       "\n",
       "  Thôn, xóm, \\nđường, \\ntổ dân phố (đang ở) Xã/Phường \\n(đang ở)  \\\n",
       "0                                    Khóm 3             Phường 3   \n",
       "1                                    Khóm 6             Phường 1   \n",
       "2                                 Phước Thọ           Phước Long   \n",
       "3                               Phước Thành           Phước Long   \n",
       "4                             Phước Thọ Hậu           Phước Long   \n",
       "\n",
       "  Quận/Huyện\\n (đang ở) Tỉnh/TP \\n (đang ở)  CT Value  \n",
       "0   Thành Phố Bạc Liêu             Bạc Liêu     20.51  \n",
       "1   Thành Phố Bạc Liêu             Bạc Liêu     26.65  \n",
       "2            Phước Long            Bạc Liêu     20.91  \n",
       "3            Phước Long            Bạc Liêu     20.90  \n",
       "4            Phước Long            Bạc Liêu     17.61  "
      ]
     },
     "execution_count": 12,
     "metadata": {},
     "output_type": "execute_result"
    }
   ],
   "source": [
    "test_data = pd.read_excel(\"./data/Danh sách lấy MS 03..12.2021 HT TRA HUYEN.xlsx\")\n",
    "test_data.head()"
   ]
  },
  {
   "cell_type": "code",
   "execution_count": 13,
   "metadata": {},
   "outputs": [
    {
     "data": {
      "text/plain": [
       "0           Đoàn Gia Luân\n",
       "1      Huỳnh Đức Thắng Em\n",
       "2           Hồ Hoàng Kiến\n",
       "3             Tô Bích Duy\n",
       "4           Danh Thị Nhan\n",
       "              ...        \n",
       "560       Nguyễn Văn Dững\n",
       "561           Lài Thị Não\n",
       "562          Trần Văn Huệ\n",
       "563       Nguyễn Thị Hằng\n",
       "564             Bùi Vũ Ca\n",
       "Name: Họ và tên BN, Length: 565, dtype: object"
      ]
     },
     "execution_count": 13,
     "metadata": {},
     "output_type": "execute_result"
    }
   ],
   "source": [
    "test_data.iloc[:,1]"
   ]
  },
  {
   "cell_type": "code",
   "execution_count": null,
   "metadata": {},
   "outputs": [],
   "source": []
  }
 ],
 "metadata": {
  "interpreter": {
   "hash": "d9886ceeb2860eaf8a8649d8072db18ad47f45e3f900e1d4079952e890e878b5"
  },
  "kernelspec": {
   "display_name": "Python 3.8.5 64-bit ('base': conda)",
   "language": "python",
   "name": "python3"
  },
  "language_info": {
   "codemirror_mode": {
    "name": "ipython",
    "version": 3
   },
   "file_extension": ".py",
   "mimetype": "text/x-python",
   "name": "python",
   "nbconvert_exporter": "python",
   "pygments_lexer": "ipython3",
   "version": "3.8.5"
  },
  "orig_nbformat": 4
 },
 "nbformat": 4,
 "nbformat_minor": 2
}
