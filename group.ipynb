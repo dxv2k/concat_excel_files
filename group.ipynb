{
 "cells": [
  {
   "cell_type": "markdown",
   "metadata": {},
   "source": [
    "### Import libraries"
   ]
  },
  {
   "cell_type": "code",
   "execution_count": 9,
   "metadata": {},
   "outputs": [],
   "source": [
    "import pandas as pd\n",
    "import os"
   ]
  },
  {
   "cell_type": "code",
   "execution_count": 10,
   "metadata": {},
   "outputs": [],
   "source": [
    "DATA_PATH = \"./data/\""
   ]
  },
  {
   "cell_type": "code",
   "execution_count": 11,
   "metadata": {},
   "outputs": [
    {
     "data": {
      "text/plain": [
       "78"
      ]
     },
     "execution_count": 11,
     "metadata": {},
     "output_type": "execute_result"
    }
   ],
   "source": [
    "file_list = os.listdir(DATA_PATH)\n",
    "list_columns_file = [] # idx: columns == idx : \n",
    "for idx, file in enumerate(file_list): \n",
    "    data = pd.read_excel(DATA_PATH + file)\n",
    "    list_columns_file.append(list(data.columns)) \n",
    "\n",
    "len(list_columns_file)"
   ]
  },
  {
   "cell_type": "code",
   "execution_count": 20,
   "metadata": {},
   "outputs": [
    {
     "data": {
      "text/plain": [
       "565"
      ]
     },
     "execution_count": 20,
     "metadata": {},
     "output_type": "execute_result"
    }
   ],
   "source": [
    "# get columns value\n",
    "data0 = pd.read_excel(DATA_PATH + file_list[0])\n",
    "# data0.head()\n",
    "len(data0)"
   ]
  },
  {
   "cell_type": "code",
   "execution_count": 13,
   "metadata": {},
   "outputs": [],
   "source": [
    "test_data = data0.iloc[:,1:5]"
   ]
  },
  {
   "cell_type": "code",
   "execution_count": 14,
   "metadata": {},
   "outputs": [
    {
     "data": {
      "text/html": [
       "<div>\n",
       "<style scoped>\n",
       "    .dataframe tbody tr th:only-of-type {\n",
       "        vertical-align: middle;\n",
       "    }\n",
       "\n",
       "    .dataframe tbody tr th {\n",
       "        vertical-align: top;\n",
       "    }\n",
       "\n",
       "    .dataframe thead th {\n",
       "        text-align: right;\n",
       "    }\n",
       "</style>\n",
       "<table border=\"1\" class=\"dataframe\">\n",
       "  <thead>\n",
       "    <tr style=\"text-align: right;\">\n",
       "      <th></th>\n",
       "      <th>Mã BN</th>\n",
       "      <th>Họ và tên BN</th>\n",
       "      <th>Năm sinh</th>\n",
       "      <th>Giới Tính</th>\n",
       "    </tr>\n",
       "  </thead>\n",
       "  <tbody>\n",
       "  </tbody>\n",
       "</table>\n",
       "</div>"
      ],
      "text/plain": [
       "Empty DataFrame\n",
       "Columns: [Mã BN, Họ và tên BN, Năm sinh, Giới Tính]\n",
       "Index: []"
      ]
     },
     "execution_count": 14,
     "metadata": {},
     "output_type": "execute_result"
    }
   ],
   "source": [
    "df = pd.DataFrame(columns=[str(i) for i in [\"Mã BN\",\"Họ và tên BN\", \"Năm sinh\", \"Giới Tính\"]])\n",
    "df"
   ]
  },
  {
   "cell_type": "markdown",
   "metadata": {},
   "source": [
    "### Columns that found in most of the files"
   ]
  },
  {
   "cell_type": "code",
   "execution_count": 15,
   "metadata": {},
   "outputs": [
    {
     "data": {
      "text/plain": [
       "61"
      ]
     },
     "execution_count": 15,
     "metadata": {},
     "output_type": "execute_result"
    }
   ],
   "source": [
    "# count column values\n",
    "dict_columns_value_count = {}\n",
    "for row in list_columns_file: \n",
    "    for col_name in row: \n",
    "        # NOT IN \n",
    "        if col_name not in dict_columns_value_count: \n",
    "            dict_columns_value_count[col_name] = 1 \n",
    "        else:\n",
    "            dict_columns_value_count[col_name] += 1\n",
    "len(dict_columns_value_count)"
   ]
  },
  {
   "cell_type": "code",
   "execution_count": 16,
   "metadata": {},
   "outputs": [
    {
     "data": {
      "text/plain": [
       "{'TT': 77,\n",
       " 'Unnamed: 1': 7,\n",
       " 'Họ và tên BN': 77,\n",
       " 'Năm \\nsinh BN': 13,\n",
       " 'Giới tính\\n BN': 22,\n",
       " 'Thôn, xóm, \\nđường, \\ntổ dân phố (đang ở)': 13,\n",
       " 'Xã/Phường \\n(đang ở)': 22,\n",
       " 'Quận/Huyện\\n (đang ở)': 13,\n",
       " 'Tỉnh/TP \\n (đang ở)': 12,\n",
       " 'CT Value': 35,\n",
       " 'Mã số bệnh nhân': 12,\n",
       " 'Mã số BN': 10,\n",
       " 'Mã số Bệnh nhân': 1,\n",
       " 'Thôn, xóm, \\nđường, \\ntổ dân phố (đang ở).1': 2,\n",
       " 'Xã/Phường \\n(thường trú)': 11,\n",
       " 'Quận/Huyện \\n(thường trú)': 11,\n",
       " 'Tỉnh/TP\\n(thường trú)': 11,\n",
       " 'MÃ SỐ BN': 1,\n",
       " 'Năm sinh BN': 55,\n",
       " 'Giới tính BN': 55,\n",
       " 'Thôn, xóm, đường, tổ dân phố (đang ở)': 54,\n",
       " 'Xã/Phường (đang ở)': 54,\n",
       " 'Quận/Huyện (đang ở)': 53,\n",
       " 'Tỉnh/TP (đang ở)': 53,\n",
       " 'Ngày lấy mẫu': 10,\n",
       " 'Ngày có kết \\nquả xét nghiệm': 1,\n",
       " 'Phân loại \\nca bệnh': 1,\n",
       " 'MSBN': 27,\n",
       " 'Đối tượng lấy mẫu': 10,\n",
       " 'Số điện thoại BN': 10,\n",
       " 'Tiền sử tiêm Vaccine Covid-19': 10,\n",
       " 'Ghi chú': 11,\n",
       " 'Loại xét nghiệm': 11,\n",
       " 'Mã BN': 15,\n",
       " 'Thôn, xóm, đường, tổ dân phố (thường trú)': 9,\n",
       " 'Ngày có kết quả xét nghiệm': 9,\n",
       " 'Phân loại ca bệnh': 9,\n",
       " 'Nơi lấy mẫu': 28,\n",
       " 'Năm sinh \\n BN': 8,\n",
       " 'Thôn, xóm, đường,\\n tổ dân phố (đang ở)': 9,\n",
       " 'Quận/Huyện \\n(đang ở)': 11,\n",
       " 'Tỉnh/TP \\n(đang ở)': 9,\n",
       " 'Năm sinh \\nBN': 1,\n",
       " 'Xã/Phường\\n (đang ở)': 1,\n",
       " 'Thôn, xóm, đường, \\ntổ dân phố (đang ở)': 1,\n",
       " 'Mã Số BN': 1,\n",
       " 'Nơi lấy\\n mẫu': 1,\n",
       " 'BN': 2,\n",
       " 'Mã số bệnh nhân ': 1,\n",
       " 'Unnamed: 0': 1,\n",
       " '   CÔNG AN TỈNH BẠC LIÊU': 1,\n",
       " 'Unnamed: 2': 1,\n",
       " 'Unnamed: 3': 1,\n",
       " 'Unnamed: 4': 1,\n",
       " 'Unnamed: 5': 1,\n",
       " 'Unnamed: 6': 1,\n",
       " 'CỘNG HÒA XÃ HỘI CHỦ NGHĨA VIỆT NAM': 1,\n",
       " 'Unnamed: 8': 1,\n",
       " 'Unnamed: 9': 1,\n",
       " 'Unnamed: 10': 1,\n",
       " 'Unnamed: 11': 1}"
      ]
     },
     "execution_count": 16,
     "metadata": {},
     "output_type": "execute_result"
    }
   ],
   "source": [
    "dict_columns_value_count"
   ]
  },
  {
   "cell_type": "markdown",
   "metadata": {},
   "source": [
    "### Extract data & Merge to one file "
   ]
  },
  {
   "cell_type": "code",
   "execution_count": 17,
   "metadata": {},
   "outputs": [
    {
     "data": {
      "text/html": [
       "<div>\n",
       "<style scoped>\n",
       "    .dataframe tbody tr th:only-of-type {\n",
       "        vertical-align: middle;\n",
       "    }\n",
       "\n",
       "    .dataframe tbody tr th {\n",
       "        vertical-align: top;\n",
       "    }\n",
       "\n",
       "    .dataframe thead th {\n",
       "        text-align: right;\n",
       "    }\n",
       "</style>\n",
       "<table border=\"1\" class=\"dataframe\">\n",
       "  <thead>\n",
       "    <tr style=\"text-align: right;\">\n",
       "      <th></th>\n",
       "      <th>Mã BN</th>\n",
       "      <th>Họ và tên BN</th>\n",
       "      <th>Năm sinh</th>\n",
       "      <th>Giới Tính</th>\n",
       "    </tr>\n",
       "  </thead>\n",
       "  <tbody>\n",
       "  </tbody>\n",
       "</table>\n",
       "</div>"
      ],
      "text/plain": [
       "Empty DataFrame\n",
       "Columns: [Mã BN, Họ và tên BN, Năm sinh, Giới Tính]\n",
       "Index: []"
      ]
     },
     "execution_count": 17,
     "metadata": {},
     "output_type": "execute_result"
    }
   ],
   "source": [
    "# columns used in merged file\n",
    "columns =  [\"Mã BN\",\"Họ và tên BN\", \"Năm sinh\", \"Giới Tính\"]\n",
    "\n",
    "# create empty dataframe with columns name\n",
    "df = pd.DataFrame(columns=[str(i) for i in columns])\n",
    "df"
   ]
  },
  {
   "cell_type": "code",
   "execution_count": 21,
   "metadata": {},
   "outputs": [
    {
     "data": {
      "text/html": [
       "<div>\n",
       "<style scoped>\n",
       "    .dataframe tbody tr th:only-of-type {\n",
       "        vertical-align: middle;\n",
       "    }\n",
       "\n",
       "    .dataframe tbody tr th {\n",
       "        vertical-align: top;\n",
       "    }\n",
       "\n",
       "    .dataframe thead th {\n",
       "        text-align: right;\n",
       "    }\n",
       "</style>\n",
       "<table border=\"1\" class=\"dataframe\">\n",
       "  <thead>\n",
       "    <tr style=\"text-align: right;\">\n",
       "      <th></th>\n",
       "      <th>Mã BN</th>\n",
       "      <th>Họ và tên BN</th>\n",
       "      <th>Năm sinh</th>\n",
       "      <th>Giới Tính</th>\n",
       "    </tr>\n",
       "  </thead>\n",
       "  <tbody>\n",
       "    <tr>\n",
       "      <th>0</th>\n",
       "      <td>BN1282126</td>\n",
       "      <td>Đoàn Gia Luân</td>\n",
       "      <td>2009</td>\n",
       "      <td>Nam</td>\n",
       "    </tr>\n",
       "    <tr>\n",
       "      <th>1</th>\n",
       "      <td>BN1282127</td>\n",
       "      <td>Huỳnh Đức Thắng Em</td>\n",
       "      <td>1987</td>\n",
       "      <td>Nam</td>\n",
       "    </tr>\n",
       "    <tr>\n",
       "      <th>2</th>\n",
       "      <td>BN1282128</td>\n",
       "      <td>Hồ Hoàng Kiến</td>\n",
       "      <td>1998</td>\n",
       "      <td>Nam</td>\n",
       "    </tr>\n",
       "    <tr>\n",
       "      <th>3</th>\n",
       "      <td>BN1282129</td>\n",
       "      <td>Tô Bích Duy</td>\n",
       "      <td>1984</td>\n",
       "      <td>Nữ</td>\n",
       "    </tr>\n",
       "    <tr>\n",
       "      <th>4</th>\n",
       "      <td>BN1282130</td>\n",
       "      <td>Danh Thị Nhan</td>\n",
       "      <td>1987</td>\n",
       "      <td>Nữ</td>\n",
       "    </tr>\n",
       "    <tr>\n",
       "      <th>...</th>\n",
       "      <td>...</td>\n",
       "      <td>...</td>\n",
       "      <td>...</td>\n",
       "      <td>...</td>\n",
       "    </tr>\n",
       "    <tr>\n",
       "      <th>26154</th>\n",
       "      <td>BN2203828</td>\n",
       "      <td>Hứa Ngọc Ân</td>\n",
       "      <td>1963</td>\n",
       "      <td>Nữ</td>\n",
       "    </tr>\n",
       "    <tr>\n",
       "      <th>26155</th>\n",
       "      <td>BN2203829</td>\n",
       "      <td>Vương Duệ Phú</td>\n",
       "      <td>1993</td>\n",
       "      <td>Nam</td>\n",
       "    </tr>\n",
       "    <tr>\n",
       "      <th>26156</th>\n",
       "      <td>BN2203830</td>\n",
       "      <td>Quách Trường Thái</td>\n",
       "      <td>1984</td>\n",
       "      <td>Nam</td>\n",
       "    </tr>\n",
       "    <tr>\n",
       "      <th>26157</th>\n",
       "      <td>BN2203831</td>\n",
       "      <td>Mai Trung Học</td>\n",
       "      <td>1991</td>\n",
       "      <td>Nam</td>\n",
       "    </tr>\n",
       "    <tr>\n",
       "      <th>26158</th>\n",
       "      <td>BN2203832</td>\n",
       "      <td>Hứa Mỹ Chu</td>\n",
       "      <td>1951</td>\n",
       "      <td>Nữ</td>\n",
       "    </tr>\n",
       "  </tbody>\n",
       "</table>\n",
       "<p>26159 rows × 4 columns</p>\n",
       "</div>"
      ],
      "text/plain": [
       "           Mã BN        Họ và tên BN Năm sinh Giới Tính\n",
       "0      BN1282126       Đoàn Gia Luân     2009       Nam\n",
       "1      BN1282127  Huỳnh Đức Thắng Em     1987       Nam\n",
       "2      BN1282128       Hồ Hoàng Kiến     1998       Nam\n",
       "3      BN1282129         Tô Bích Duy     1984        Nữ\n",
       "4      BN1282130       Danh Thị Nhan     1987        Nữ\n",
       "...          ...                 ...      ...       ...\n",
       "26154  BN2203828         Hứa Ngọc Ân     1963        Nữ\n",
       "26155  BN2203829       Vương Duệ Phú     1993       Nam\n",
       "26156  BN2203830   Quách Trường Thái     1984       Nam\n",
       "26157  BN2203831       Mai Trung Học     1991       Nam\n",
       "26158  BN2203832          Hứa Mỹ Chu     1951        Nữ\n",
       "\n",
       "[26159 rows x 4 columns]"
      ]
     },
     "execution_count": 21,
     "metadata": {},
     "output_type": "execute_result"
    }
   ],
   "source": [
    "# columns used in merged file\n",
    "columns =  [\"Mã BN\",\"Họ và tên BN\", \"Năm sinh\", \"Giới Tính\"]\n",
    "\n",
    "# create empty dataframe with columns name\n",
    "df = pd.DataFrame(columns=[str(i) for i in columns])\n",
    "\n",
    "# total patients\n",
    "total_patients = 0\n",
    "\n",
    "# copy from files to dataframe \n",
    "for idx, file in enumerate(file_list): \n",
    "    curr_data = pd.read_excel(DATA_PATH + file)\n",
    "    total_patients += len(curr_data)\n",
    "    # get columns 1,2,3,4 (idx start at 0) \n",
    "    # mã BN, họ tên BN, năm sinh, giới tính \n",
    "    curr_data = curr_data.iloc[:,1:5]\n",
    "    \n",
    "\n",
    "    # remove headers \n",
    "    curr_data = curr_data[:].values\n",
    "\n",
    "    # convert to dataframe \n",
    "    curr_data = pd.DataFrame(curr_data, columns=columns)\n",
    "\n",
    "    df = df.append(curr_data, ignore_index=True)\n",
    "\n",
    "df"
   ]
  },
  {
   "cell_type": "code",
   "execution_count": 22,
   "metadata": {},
   "outputs": [
    {
     "name": "stdout",
     "output_type": "stream",
     "text": [
      "26159\n",
      "26159\n"
     ]
    }
   ],
   "source": [
    "print(len(df)) \n",
    "print(total_patients) "
   ]
  },
  {
   "cell_type": "code",
   "execution_count": 96,
   "metadata": {},
   "outputs": [],
   "source": [
    "df.to_excel(\"./output.xlsx\",sheet_name=\"Tổng hợp\")"
   ]
  },
  {
   "cell_type": "markdown",
   "metadata": {},
   "source": [
    "### Complete code"
   ]
  },
  {
   "cell_type": "code",
   "execution_count": 16,
   "metadata": {},
   "outputs": [],
   "source": [
    "import pandas as pd\n",
    "import os \n",
    "\n",
    "DATA_PATH = \"./data/\"\n",
    "\n",
    "file_list = os.listdir(DATA_PATH)\n",
    "\n",
    "# columns used in merged file\n",
    "columns =  [\"Mã BN\",\"Họ và tên BN\", \"Năm sinh\", \"Giới Tính\"]\n",
    "\n",
    "# create empty dataframe with columns name\n",
    "df = pd.DataFrame(columns=[str(i) for i in columns])\n",
    "\n",
    "# copy from files to dataframe \n",
    "for idx, file in enumerate(file_list): \n",
    "    curr_data = pd.read_excel(DATA_PATH + file)\n",
    "\n",
    "    # get columns 1,2,3,4 (idx start at 0) \n",
    "    # mã BN, họ tên BN, năm sinh, giới tính \n",
    "    curr_data = curr_data.iloc[:,1:5]\n",
    "\n",
    "    # remove headers \n",
    "    curr_data = curr_data[:].values\n",
    "\n",
    "    # convert to dataframe \n",
    "    curr_data = pd.DataFrame(curr_data, columns=columns)\n",
    "\n",
    "    df = df.append(curr_data, ignore_index=True)\n",
    "\n",
    "df.to_excel(\"./output.xlsx\",sheet_name=\"Tổng hợp\")"
   ]
  },
  {
   "cell_type": "markdown",
   "metadata": {},
   "source": [
    "#### Test"
   ]
  },
  {
   "cell_type": "code",
   "execution_count": 28,
   "metadata": {},
   "outputs": [
    {
     "name": "stderr",
     "output_type": "stream",
     "text": [
      "100%|██████████| 78/78 [00:07<00:00, 11.00it/s]\n"
     ]
    }
   ],
   "source": [
    "from tqdm import tqdm # progress bar  \n",
    "from datetime import datetime\n",
    "import pandas as pd\n",
    "import numpy as np \n",
    "import os \n",
    "\n",
    "COLOR_YELLOW = '\\033[33m'\n",
    "COLOR_GREEN = '\\033[32m'\n",
    "\n",
    "DATA_PATH = \"./data/\"\n",
    "CURR_YEAR = datetime.now().year\n",
    "FILE_LIST = os.listdir(DATA_PATH)\n",
    "\n",
    "# columns used in merged file\n",
    "# columns =  [\"Mã BN\",\"Họ và tên BN\", \"Năm sinh\", \"Giới Tính\"]\n",
    "# columns =  [\"Mã BN\",\"Họ và tên BN\", \"Năm sinh\", \"Giới Tính\",\"Tuổi\"]\n",
    "columns =  [\"Mã BN\",\"Họ và tên BN\", \"Năm sinh\", \"Giới Tính\",\"Tuổi\",\"Địa Chỉ\"]\n",
    "\n",
    "# create empty dataframe with columns name\n",
    "dataframe = pd.DataFrame(columns=[str(i) for i in columns])\n",
    "\n",
    "total_patients = 0\n",
    "\n",
    "\n",
    "# copy from files to dataframe & add new columns   \n",
    "for file in tqdm(FILE_LIST, total=len(FILE_LIST)): \n",
    "    curr_data = pd.read_excel(DATA_PATH + file)\n",
    "    total_patients += len(curr_data)\n",
    "\n",
    "    # get columns 1,2,3,4 (idx start at 0) \n",
    "    # mã BN, họ tên BN, năm sinh, giới tính \n",
    "    address_data = curr_data.iloc[:,5:9]\n",
    "    curr_data = curr_data.iloc[:,1:5]\n",
    "\n",
    "    # remove headers \n",
    "    curr_data = curr_data[:].values\n",
    "\n",
    "    # TODO: add column age & append to curr_data \n",
    "    age_list = []\n",
    "    for row in curr_data: \n",
    "        try: \n",
    "            age_list.append(CURR_YEAR - int(row[2]))\n",
    "        except ValueError: \n",
    "            age_list.append(0)\n",
    "    # convert & reshape to numpy vector \n",
    "    age_list = np.asarray(age_list)\n",
    "    age_list = age_list.reshape((age_list.shape[0],1)) \n",
    "\n",
    "    # TODO: add column address & append to curr_data \n",
    "    address_list = address_data.values.tolist() \n",
    "    for idx,address in enumerate(address_list): \n",
    "        address_list[idx] = ' '.join([val for val in address_list[idx] if isinstance(val,str)])\n",
    "    address_list = np.asarray(address_list)\n",
    "    address_list = address_list.reshape((address_list.shape[0],1)) \n",
    "\n",
    "    # concate dataframe & age_list \n",
    "    curr_data = np.hstack((curr_data,age_list,address_list))\n",
    "\n",
    "    # convert to dataframe \n",
    "    curr_data = pd.DataFrame(curr_data, columns=columns)\n",
    "\n",
    "    dataframe = dataframe.append(curr_data, ignore_index=True)\n"
   ]
  },
  {
   "cell_type": "code",
   "execution_count": 29,
   "metadata": {},
   "outputs": [
    {
     "data": {
      "text/html": [
       "<div>\n",
       "<style scoped>\n",
       "    .dataframe tbody tr th:only-of-type {\n",
       "        vertical-align: middle;\n",
       "    }\n",
       "\n",
       "    .dataframe tbody tr th {\n",
       "        vertical-align: top;\n",
       "    }\n",
       "\n",
       "    .dataframe thead th {\n",
       "        text-align: right;\n",
       "    }\n",
       "</style>\n",
       "<table border=\"1\" class=\"dataframe\">\n",
       "  <thead>\n",
       "    <tr style=\"text-align: right;\">\n",
       "      <th></th>\n",
       "      <th>Mã BN</th>\n",
       "      <th>Họ và tên BN</th>\n",
       "      <th>Năm sinh</th>\n",
       "      <th>Giới Tính</th>\n",
       "      <th>Tuổi</th>\n",
       "      <th>Địa Chỉ</th>\n",
       "    </tr>\n",
       "  </thead>\n",
       "  <tbody>\n",
       "    <tr>\n",
       "      <th>0</th>\n",
       "      <td>BN1282126</td>\n",
       "      <td>Đoàn Gia Luân</td>\n",
       "      <td>2009</td>\n",
       "      <td>Nam</td>\n",
       "      <td>13</td>\n",
       "      <td>Khóm 3 Phường 3 Thành Phố Bạc Liêu  Bạc Liêu</td>\n",
       "    </tr>\n",
       "    <tr>\n",
       "      <th>1</th>\n",
       "      <td>BN1282127</td>\n",
       "      <td>Huỳnh Đức Thắng Em</td>\n",
       "      <td>1987</td>\n",
       "      <td>Nam</td>\n",
       "      <td>35</td>\n",
       "      <td>Khóm 6 Phường 1 Thành Phố Bạc Liêu  Bạc Liêu</td>\n",
       "    </tr>\n",
       "    <tr>\n",
       "      <th>2</th>\n",
       "      <td>BN1282128</td>\n",
       "      <td>Hồ Hoàng Kiến</td>\n",
       "      <td>1998</td>\n",
       "      <td>Nam</td>\n",
       "      <td>24</td>\n",
       "      <td>Phước Thọ Phước Long Phước Long Bạc Liêu</td>\n",
       "    </tr>\n",
       "    <tr>\n",
       "      <th>3</th>\n",
       "      <td>BN1282129</td>\n",
       "      <td>Tô Bích Duy</td>\n",
       "      <td>1984</td>\n",
       "      <td>Nữ</td>\n",
       "      <td>38</td>\n",
       "      <td>Phước Thành Phước Long Phước Long Bạc Liêu</td>\n",
       "    </tr>\n",
       "    <tr>\n",
       "      <th>4</th>\n",
       "      <td>BN1282130</td>\n",
       "      <td>Danh Thị Nhan</td>\n",
       "      <td>1987</td>\n",
       "      <td>Nữ</td>\n",
       "      <td>35</td>\n",
       "      <td>Phước Thọ Hậu Phước Long Phước Long Bạc Liêu</td>\n",
       "    </tr>\n",
       "    <tr>\n",
       "      <th>...</th>\n",
       "      <td>...</td>\n",
       "      <td>...</td>\n",
       "      <td>...</td>\n",
       "      <td>...</td>\n",
       "      <td>...</td>\n",
       "      <td>...</td>\n",
       "    </tr>\n",
       "    <tr>\n",
       "      <th>26154</th>\n",
       "      <td>BN2203828</td>\n",
       "      <td>Hứa Ngọc Ân</td>\n",
       "      <td>1963</td>\n",
       "      <td>Nữ</td>\n",
       "      <td>59</td>\n",
       "      <td>Khóm 1 Phường 3 Thành phố Bạc Liêu Bạc Liêu</td>\n",
       "    </tr>\n",
       "    <tr>\n",
       "      <th>26155</th>\n",
       "      <td>BN2203829</td>\n",
       "      <td>Vương Duệ Phú</td>\n",
       "      <td>1993</td>\n",
       "      <td>Nam</td>\n",
       "      <td>29</td>\n",
       "      <td>Khóm 1 Phường 3 Thành phố Bạc Liêu Bạc Liêu</td>\n",
       "    </tr>\n",
       "    <tr>\n",
       "      <th>26156</th>\n",
       "      <td>BN2203830</td>\n",
       "      <td>Quách Trường Thái</td>\n",
       "      <td>1984</td>\n",
       "      <td>Nam</td>\n",
       "      <td>38</td>\n",
       "      <td>Ấp 1 Phú Lộc Thạnh Trị Sóc Trăng</td>\n",
       "    </tr>\n",
       "    <tr>\n",
       "      <th>26157</th>\n",
       "      <td>BN2203831</td>\n",
       "      <td>Mai Trung Học</td>\n",
       "      <td>1991</td>\n",
       "      <td>Nam</td>\n",
       "      <td>31</td>\n",
       "      <td>Ấp 10B Trần Hợi Trần Văn Thời Cà Mau</td>\n",
       "    </tr>\n",
       "    <tr>\n",
       "      <th>26158</th>\n",
       "      <td>BN2203832</td>\n",
       "      <td>Hứa Mỹ Chu</td>\n",
       "      <td>1951</td>\n",
       "      <td>Nữ</td>\n",
       "      <td>71</td>\n",
       "      <td>Ấp 2 Thị trấn Gành Hào Đông Hải Bạc Liêu</td>\n",
       "    </tr>\n",
       "  </tbody>\n",
       "</table>\n",
       "<p>26159 rows × 6 columns</p>\n",
       "</div>"
      ],
      "text/plain": [
       "           Mã BN        Họ và tên BN Năm sinh Giới Tính Tuổi  \\\n",
       "0      BN1282126       Đoàn Gia Luân     2009       Nam   13   \n",
       "1      BN1282127  Huỳnh Đức Thắng Em     1987       Nam   35   \n",
       "2      BN1282128       Hồ Hoàng Kiến     1998       Nam   24   \n",
       "3      BN1282129         Tô Bích Duy     1984        Nữ   38   \n",
       "4      BN1282130       Danh Thị Nhan     1987        Nữ   35   \n",
       "...          ...                 ...      ...       ...  ...   \n",
       "26154  BN2203828         Hứa Ngọc Ân     1963        Nữ   59   \n",
       "26155  BN2203829       Vương Duệ Phú     1993       Nam   29   \n",
       "26156  BN2203830   Quách Trường Thái     1984       Nam   38   \n",
       "26157  BN2203831       Mai Trung Học     1991       Nam   31   \n",
       "26158  BN2203832          Hứa Mỹ Chu     1951        Nữ   71   \n",
       "\n",
       "                                            Địa Chỉ  \n",
       "0      Khóm 3 Phường 3 Thành Phố Bạc Liêu  Bạc Liêu  \n",
       "1      Khóm 6 Phường 1 Thành Phố Bạc Liêu  Bạc Liêu  \n",
       "2          Phước Thọ Phước Long Phước Long Bạc Liêu  \n",
       "3        Phước Thành Phước Long Phước Long Bạc Liêu  \n",
       "4      Phước Thọ Hậu Phước Long Phước Long Bạc Liêu  \n",
       "...                                             ...  \n",
       "26154   Khóm 1 Phường 3 Thành phố Bạc Liêu Bạc Liêu  \n",
       "26155   Khóm 1 Phường 3 Thành phố Bạc Liêu Bạc Liêu  \n",
       "26156              Ấp 1 Phú Lộc Thạnh Trị Sóc Trăng  \n",
       "26157          Ấp 10B Trần Hợi Trần Văn Thời Cà Mau  \n",
       "26158      Ấp 2 Thị trấn Gành Hào Đông Hải Bạc Liêu  \n",
       "\n",
       "[26159 rows x 6 columns]"
      ]
     },
     "execution_count": 29,
     "metadata": {},
     "output_type": "execute_result"
    }
   ],
   "source": [
    "dataframe"
   ]
  },
  {
   "cell_type": "code",
   "execution_count": null,
   "metadata": {},
   "outputs": [],
   "source": []
  }
 ],
 "metadata": {
  "interpreter": {
   "hash": "d9886ceeb2860eaf8a8649d8072db18ad47f45e3f900e1d4079952e890e878b5"
  },
  "kernelspec": {
   "display_name": "Python 3.8.5 64-bit ('base': conda)",
   "language": "python",
   "name": "python3"
  },
  "language_info": {
   "codemirror_mode": {
    "name": "ipython",
    "version": 3
   },
   "file_extension": ".py",
   "mimetype": "text/x-python",
   "name": "python",
   "nbconvert_exporter": "python",
   "pygments_lexer": "ipython3",
   "version": "3.8.5"
  },
  "orig_nbformat": 4
 },
 "nbformat": 4,
 "nbformat_minor": 2
}
